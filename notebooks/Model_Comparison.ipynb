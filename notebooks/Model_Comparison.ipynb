{
  "nbformat": 4,
  "nbformat_minor": 0,
  "metadata": {
    "colab": {
      "provenance": [],
      "include_colab_link": true
    },
    "kernelspec": {
      "name": "python3",
      "display_name": "Python 3"
    },
    "language_info": {
      "name": "python"
    }
  },
  "cells": [
    {
      "cell_type": "markdown",
      "metadata": {
        "id": "view-in-github",
        "colab_type": "text"
      },
      "source": [
        "<a href=\"https://colab.research.google.com/github/MovinduSenura/Chest-Xray-Pneumonia-Detection/blob/main/notebooks/Model_Comparison.ipynb\" target=\"_parent\"><img src=\"https://colab.research.google.com/assets/colab-badge.svg\" alt=\"Open In Colab\"/></a>"
      ]
    },
    {
      "cell_type": "code",
      "execution_count": 1,
      "metadata": {
        "colab": {
          "base_uri": "https://localhost:8080/"
        },
        "id": "YI4qwx-9-7-N",
        "outputId": "62bb0698-de06-4435-d32f-b12800c340c2"
      },
      "outputs": [
        {
          "output_type": "stream",
          "name": "stdout",
          "text": [
            "Mounted at /content/drive\n"
          ]
        }
      ],
      "source": [
        "from google.colab import drive\n",
        "drive.mount('/content/drive')\n"
      ]
    },
    {
      "cell_type": "code",
      "source": [
        "import tensorflow as tf\n",
        "import numpy as np\n",
        "import matplotlib.pyplot as plt\n",
        "from sklearn.metrics import accuracy_score, classification_report, confusion_matrix\n",
        "import seaborn as sns\n",
        "import os\n",
        "import time\n"
      ],
      "metadata": {
        "id": "2KJnvDKOBojN"
      },
      "execution_count": 2,
      "outputs": []
    },
    {
      "cell_type": "code",
      "source": [
        "test_dir = '/content/drive/MyDrive/DL_Assignment/chest_xray/test'\n",
        "\n",
        "test_datagen = tf.keras.preprocessing.image.ImageDataGenerator(rescale=1./255)\n",
        "\n",
        "test_gen = test_datagen.flow_from_directory(\n",
        "    test_dir,\n",
        "    target_size=(224, 224),\n",
        "    batch_size=32,\n",
        "    class_mode='binary',\n",
        "    shuffle=False\n",
        ")\n"
      ],
      "metadata": {
        "colab": {
          "base_uri": "https://localhost:8080/"
        },
        "id": "vxYyxqYvBq7Y",
        "outputId": "e7157e67-dd74-482e-9443-6530e9b7f8c6"
      },
      "execution_count": 3,
      "outputs": [
        {
          "output_type": "stream",
          "name": "stdout",
          "text": [
            "Found 624 images belonging to 2 classes.\n"
          ]
        }
      ]
    },
    {
      "cell_type": "code",
      "source": [
        "models = {\n",
        "    \"Custom CNN\": tf.keras.models.load_model('/content/drive/MyDrive/Final_Model_2/custom_cnn.keras'),\n",
        "    \"ResNet\": tf.keras.models.load_model('/content/drive/MyDrive/Final_Model_2/resnet.keras'),\n",
        "    \"VGG16\": tf.keras.models.load_model('/content/drive/MyDrive/Final_Model_2/vgg16.keras'),\n",
        "    \"EfficientNet\": tf.keras.models.load_model('/content/drive/MyDrive/Final_Model_2/efficientnet.keras')\n",
        "}\n"
      ],
      "metadata": {
        "id": "1XCzjMdJBzBf",
        "colab": {
          "base_uri": "https://localhost:8080/"
        },
        "outputId": "862a8a36-9006-4da2-a499-3898cdc72f60"
      },
      "execution_count": 4,
      "outputs": [
        {
          "output_type": "stream",
          "name": "stderr",
          "text": [
            "/usr/local/lib/python3.12/dist-packages/keras/src/saving/saving_lib.py:802: UserWarning: Skipping variable loading for optimizer 'adam', because it has 22 variables whereas the saved optimizer has 26 variables. \n",
            "  saveable.load_own_variables(weights_store.get(inner_path))\n"
          ]
        }
      ]
    },
    {
      "cell_type": "code",
      "source": [
        "comparison = []\n",
        "\n",
        "for name, model in models.items():\n",
        "    print(f\"\\n🔍 Evaluating {name}...\")\n",
        "\n",
        "    start_time = time.time()\n",
        "    evaluation_output = model.evaluate(test_gen, verbose=0)\n",
        "    print(f\"Evaluation output for {name}: {evaluation_output}\")  # Debug info\n",
        "    end_time = time.time()\n",
        "\n",
        "    # ✅ Flexible unpacking: first value is always loss, second is accuracy\n",
        "    loss = evaluation_output[0]\n",
        "    acc = evaluation_output[1] if len(evaluation_output) > 1 else None\n",
        "\n",
        "    y_true = test_gen.classes\n",
        "    y_pred = (model.predict(test_gen) > 0.5).astype(\"int32\")\n",
        "\n",
        "    # Model Size (MB)\n",
        "    model_path = f\"/content/drive/MyDrive/Final_Model_2/{name.replace(' ', '_').lower()}.keras\"\n",
        "    model_size = os.path.getsize(model_path) / (1024 * 1024)\n",
        "\n",
        "    # Trainable Parameters\n",
        "    trainable_params = np.sum([tf.keras.backend.count_params(w) for w in model.trainable_weights])\n",
        "\n",
        "    comparison.append({\n",
        "        \"Model\": name,\n",
        "        \"Accuracy\": round(acc * 100, 2) if acc else \"N/A\",\n",
        "        \"Loss\": round(loss, 4),\n",
        "        \"Model Size (MB)\": round(model_size, 2),\n",
        "        \"Trainable Params\": trainable_params,\n",
        "        \"Inference Time (s)\": round(end_time - start_time, 2)\n",
        "    })\n"
      ],
      "metadata": {
        "id": "R-GMX12ZB7Tw",
        "colab": {
          "base_uri": "https://localhost:8080/"
        },
        "outputId": "79cb4f15-c675-4e7f-a635-68c792e9ee42"
      },
      "execution_count": 5,
      "outputs": [
        {
          "output_type": "stream",
          "name": "stdout",
          "text": [
            "\n",
            "🔍 Evaluating Custom CNN...\n"
          ]
        },
        {
          "output_type": "stream",
          "name": "stderr",
          "text": [
            "/usr/local/lib/python3.12/dist-packages/keras/src/trainers/data_adapters/py_dataset_adapter.py:121: UserWarning: Your `PyDataset` class should call `super().__init__(**kwargs)` in its constructor. `**kwargs` can include `workers`, `use_multiprocessing`, `max_queue_size`. Do not pass these arguments to `fit()`, as they will be ignored.\n",
            "  self._warn_if_super_not_called()\n"
          ]
        },
        {
          "output_type": "stream",
          "name": "stdout",
          "text": [
            "Evaluation output for Custom CNN: [1.2500576972961426, 0.6650640964508057, 0.6510851383209229, 1.0]\n",
            "\u001b[1m20/20\u001b[0m \u001b[32m━━━━━━━━━━━━━━━━━━━━\u001b[0m\u001b[37m\u001b[0m \u001b[1m33s\u001b[0m 2s/step\n",
            "\n",
            "🔍 Evaluating ResNet...\n",
            "Evaluation output for ResNet: [1.160051941871643, 0.8429487347602844]\n",
            "\u001b[1m20/20\u001b[0m \u001b[32m━━━━━━━━━━━━━━━━━━━━\u001b[0m\u001b[37m\u001b[0m \u001b[1m139s\u001b[0m 7s/step\n",
            "\n",
            "🔍 Evaluating VGG16...\n",
            "Evaluation output for VGG16: [0.5047118663787842, 0.9150640964508057]\n",
            "\u001b[1m20/20\u001b[0m \u001b[32m━━━━━━━━━━━━━━━━━━━━\u001b[0m\u001b[37m\u001b[0m \u001b[1m445s\u001b[0m 22s/step\n",
            "\n",
            "🔍 Evaluating EfficientNet...\n",
            "Evaluation output for EfficientNet: [0.170225590467453, 0.9342948794364929]\n",
            "\u001b[1m20/20\u001b[0m \u001b[32m━━━━━━━━━━━━━━━━━━━━\u001b[0m\u001b[37m\u001b[0m \u001b[1m428s\u001b[0m 21s/step\n"
          ]
        }
      ]
    },
    {
      "cell_type": "code",
      "source": [
        "import pandas as pd\n",
        "\n",
        "df = pd.DataFrame(comparison)\n",
        "print(df)\n"
      ],
      "metadata": {
        "id": "lUNTMEKsCMTu",
        "colab": {
          "base_uri": "https://localhost:8080/"
        },
        "outputId": "f57be07d-61b5-4b3a-b6ed-65daed491afd"
      },
      "execution_count": 6,
      "outputs": [
        {
          "output_type": "stream",
          "name": "stdout",
          "text": [
            "          Model  Accuracy    Loss  Model Size (MB)  Trainable Params  \\\n",
            "0    Custom CNN     66.51  1.2501             1.13             89169   \n",
            "1        ResNet     84.29  1.1601           212.88          15499777   \n",
            "2         VGG16     91.51  0.5047           225.51          10290945   \n",
            "3  EfficientNet     93.43  0.1702            48.85           4171645   \n",
            "\n",
            "   Inference Time (s)  \n",
            "0              213.34  \n",
            "1              137.80  \n",
            "2              442.99  \n",
            "3              425.96  \n"
          ]
        }
      ]
    },
    {
      "cell_type": "code",
      "source": [
        "plt.figure(figsize=(10,5))\n",
        "\n",
        "# Accuracy comparison\n",
        "plt.subplot(1,2,1)\n",
        "plt.bar(df[\"Model\"], df[\"Accuracy\"], color='teal')\n",
        "plt.title(\"Model Accuracy (%)\")\n",
        "\n",
        "# Loss comparison\n",
        "plt.subplot(1,2,2)\n",
        "plt.bar(df[\"Model\"], df[\"Loss\"], color='orange')\n",
        "plt.title(\"Model Loss\")\n",
        "\n",
        "plt.tight_layout()\n",
        "plt.show()\n"
      ],
      "metadata": {
        "id": "zd0u5KOYCOvW",
        "colab": {
          "base_uri": "https://localhost:8080/",
          "height": 507
        },
        "outputId": "4bd70207-752f-40fc-e51c-feaaad9f1080"
      },
      "execution_count": 7,
      "outputs": [
        {
          "output_type": "display_data",
          "data": {
            "text/plain": [
              "<Figure size 1000x500 with 2 Axes>"
            ],
            "image/png": "[encoded data removed]"
          },
          "metadata": {}
        }
      ]
    }
  ]
}