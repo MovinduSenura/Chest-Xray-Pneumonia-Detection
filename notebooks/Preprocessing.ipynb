{
  "nbformat": 4,
  "nbformat_minor": 0,
  "metadata": {
    "colab": {
      "provenance": [],
      "mount_file_id": "1rsZsTOKCCCn8y5Fs0UVO3pRxz-NdKDzb",
      "authorship_tag": "ABX9TyP9tMHEcOelNBo1GhSpZcwV",
      "include_colab_link": true
    },
    "kernelspec": {
      "name": "python3",
      "display_name": "Python 3"
    },
    "language_info": {
      "name": "python"
    }
  },
  "cells": [
    {
      "cell_type": "markdown",
      "metadata": {
        "id": "view-in-github",
        "colab_type": "text"
      },
      "source": [
        "<a href=\"https://colab.research.google.com/github/MovinduSenura/Chest-Xray-Pneumonia-Detection/blob/main/notebooks/Preprocessing.ipynb\" target=\"_parent\"><img src=\"https://colab.research.google.com/assets/colab-badge.svg\" alt=\"Open In Colab\"/></a>"
      ]
    },
    {
      "cell_type": "code",
      "source": [
        "# Import libraries\n",
        "from tensorflow.keras.preprocessing.image import ImageDataGenerator\n",
        "import os\n",
        "import matplotlib.pyplot as plt"
      ],
      "metadata": {
        "id": "CeCtdmIQYsAj"
      },
      "execution_count": 16,
      "outputs": []
    },
    {
      "cell_type": "code",
      "execution_count": 17,
      "metadata": {
        "id": "Q1y42SPCW8sB"
      },
      "outputs": [],
      "source": [
        "# Dataset paths\n",
        "DATA_DIR = '/content/drive/MyDrive/DL_Assignment/chest_xray/'\n",
        "train_dir = os.path.join(DATA_DIR, 'train')\n",
        "val_dir   = os.path.join(DATA_DIR, 'val')\n",
        "test_dir  = os.path.join(DATA_DIR, 'test')"
      ]
    },
    {
      "cell_type": "code",
      "source": [
        "# --------------------------\n",
        "# 1. Data Augmentation for Training\n",
        "# --------------------------\n",
        "train_datagen = ImageDataGenerator(\n",
        "    rescale=1./255,           # Normalize pixel values to [0,1]\n",
        "    rotation_range=20,        # Random rotation ±20 degrees\n",
        "    zoom_range=0.2,           # Random zoom\n",
        "    shear_range=0.2,          # Shear transformation\n",
        "    horizontal_flip=True      # Flip images horizontally\n",
        ")\n",
        "\n",
        "# Validation & Test data generators (no augmentation, only normalization)\n",
        "test_val_datagen = ImageDataGenerator(rescale=1./255)"
      ],
      "metadata": {
        "id": "WQBe4eesY1Uz"
      },
      "execution_count": 18,
      "outputs": []
    },
    {
      "cell_type": "code",
      "source": [
        "# --------------------------\n",
        "# 2. Generate Batches of Images\n",
        "# --------------------------\n",
        "train_gen = train_datagen.flow_from_directory(\n",
        "    train_dir,\n",
        "    target_size=(224,224),   # Resize images to 224x224\n",
        "    batch_size=32,\n",
        "    class_mode='binary'      # Binary labels: Normal=0, Pneumonia=1\n",
        ")\n",
        "\n",
        "val_gen = test_val_datagen.flow_from_directory(\n",
        "    val_dir,\n",
        "    target_size=(224,224),\n",
        "    batch_size=32,\n",
        "    class_mode='binary'\n",
        ")\n",
        "\n",
        "test_gen = test_val_datagen.flow_from_directory(\n",
        "    test_dir,\n",
        "    target_size=(224,224),\n",
        "    batch_size=32,\n",
        "    class_mode='binary',\n",
        "    shuffle=False             # Do not shuffle test set for evaluation\n",
        ")"
      ],
      "metadata": {
        "colab": {
          "base_uri": "https://localhost:8080/"
        },
        "id": "5OhANxiAY5iJ",
        "outputId": "7f8362a7-fcc4-411d-b7b3-b7c3dfff650f"
      },
      "execution_count": 19,
      "outputs": [
        {
          "output_type": "stream",
          "name": "stdout",
          "text": [
            "Found 5216 images belonging to 2 classes.\n",
            "Found 16 images belonging to 2 classes.\n",
            "Found 624 images belonging to 2 classes.\n"
          ]
        }
      ]
    }
  ]
}