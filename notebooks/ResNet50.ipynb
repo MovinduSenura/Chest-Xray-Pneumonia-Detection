{
  "nbformat": 4,
  "nbformat_minor": 0,
  "metadata": {
    "colab": {
      "provenance": [],
      "mount_file_id": "1cQq3MUkd_x3Gog1VnvI8L_RRSMdrviYF",
      "authorship_tag": "ABX9TyOysforaiq92YS/JXzl5iIE",
      "include_colab_link": true
    },
    "kernelspec": {
      "name": "python3",
      "display_name": "Python 3"
    },
    "language_info": {
      "name": "python"
    }
  },
  "cells": [
    {
      "cell_type": "markdown",
      "metadata": {
        "id": "view-in-github",
        "colab_type": "text"
      },
      "source": [
        "<a href=\"https://colab.research.google.com/github/MovinduSenura/Chest-Xray-Pneumonia-Detection/blob/dev-oshan/notebooks/ResNet50.ipynb\" target=\"_parent\"><img src=\"https://colab.research.google.com/assets/colab-badge.svg\" alt=\"Open In Colab\"/></a>"
      ]
    },
    {
      "cell_type": "code",
      "execution_count": 1,
      "metadata": {
        "colab": {
          "base_uri": "https://localhost:8080/"
        },
        "id": "tQnhaQgyEz9f",
        "outputId": "34033312-3813-4c22-9137-f8dbc3d086cf"
      },
      "outputs": [
        {
          "output_type": "stream",
          "name": "stdout",
          "text": [
            "Cloning into 'Chest-Xray-Pneumonia-Detection'...\n",
            "remote: Enumerating objects: 72, done.\u001b[K\n",
            "remote: Counting objects: 100% (72/72), done.\u001b[K\n",
            "remote: Compressing objects: 100% (68/68), done.\u001b[K\n",
            "remote: Total 72 (delta 16), reused 0 (delta 0), pack-reused 0 (from 0)\u001b[K\n",
            "Receiving objects: 100% (72/72), 29.76 KiB | 4.25 MiB/s, done.\n",
            "Resolving deltas: 100% (16/16), done.\n",
            "/content/Chest-Xray-Pneumonia-Detection\n"
          ]
        }
      ],
      "source": [
        "import os\n",
        "\n",
        "if not os.path.exists(\"Chest-Xray-Pneumonia-Detection\"):\n",
        "    !git clone -b dev-oshan https://github.com/MovinduSenura/Chest-Xray-Pneumonia-Detection.git\n",
        "\n",
        "%cd Chest-Xray-Pneumonia-Detection"
      ]
    }
  ]
}