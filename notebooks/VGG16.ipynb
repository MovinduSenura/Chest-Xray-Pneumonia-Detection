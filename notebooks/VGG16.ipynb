{
  "nbformat": 4,
  "nbformat_minor": 0,
  "metadata": {
    "colab": {
      "provenance": [],
      "gpuType": "T4",
      "authorship_tag": "ABX9TyOP5Qah3qw59cbDZqCUM6SJ",
      "include_colab_link": true
    },
    "kernelspec": {
      "name": "python3",
      "display_name": "Python 3"
    },
    "language_info": {
      "name": "python"
    },
    "accelerator": "GPU"
  },
  "cells": [
    {
      "cell_type": "markdown",
      "metadata": {
        "id": "view-in-github",
        "colab_type": "text"
      },
      "source": [
        "<a href=\"https://colab.research.google.com/github/MovinduSenura/Chest-Xray-Pneumonia-Detection/blob/dev-sayuri/notebooks/VGG16.ipynb\" target=\"_parent\"><img src=\"https://colab.research.google.com/assets/colab-badge.svg\" alt=\"Open In Colab\"/></a>"
      ]
    },
    {
      "cell_type": "code",
      "execution_count": 3,
      "metadata": {
        "id": "BHJ8rV9886xe"
      },
      "outputs": [],
      "source": [
        "# Imports\n",
        "\n",
        "import os"
      ]
    },
    {
      "cell_type": "code",
      "source": [
        "# Clone GITHUB Repository\n",
        "\n",
        "if not os.path.exists('Chest-Xray-Pneumonia-Detection'):\n",
        "    !git clone https://github.com/MovinduSenura/Chest-Xray-Pneumonia-Detection.git"
      ],
      "metadata": {
        "colab": {
          "base_uri": "https://localhost:8080/"
        },
        "id": "UD16ojmkEre9",
        "outputId": "66f2ef80-5c1e-4378-d800-f7ac446d2f21"
      },
      "execution_count": 4,
      "outputs": [
        {
          "output_type": "stream",
          "name": "stdout",
          "text": [
            "Cloning into 'Chest-Xray-Pneumonia-Detection'...\n",
            "remote: Enumerating objects: 103, done.\u001b[K\n",
            "remote: Counting objects: 100% (35/35), done.\u001b[K\n",
            "remote: Compressing objects: 100% (30/30), done.\u001b[K\n",
            "remote: Total 103 (delta 22), reused 5 (delta 5), pack-reused 68 (from 2)\u001b[K\n",
            "Receiving objects: 100% (103/103), 49.90 KiB | 3.84 MiB/s, done.\n",
            "Resolving deltas: 100% (37/37), done.\n"
          ]
        }
      ]
    },
    {
      "cell_type": "code",
      "source": [
        "#Go into the project directory\n",
        "\n",
        "%cd Chest-Xray-Pneumonia-Detection\n"
      ],
      "metadata": {
        "colab": {
          "base_uri": "https://localhost:8080/"
        },
        "id": "da0dCoKyFRlX",
        "outputId": "7df39025-6645-46ef-ffdd-ade808ed625f"
      },
      "execution_count": 5,
      "outputs": [
        {
          "output_type": "stream",
          "name": "stdout",
          "text": [
            "/content/Chest-Xray-Pneumonia-Detection\n"
          ]
        }
      ]
    },
    {
      "cell_type": "code",
      "source": [
        "# Mount Google Drive\n",
        "\n",
        "from google.colab import drive\n",
        "drive.mount('/content/drive')"
      ],
      "metadata": {
        "colab": {
          "base_uri": "https://localhost:8080/"
        },
        "id": "U6cvxALz3I1G",
        "outputId": "60bb86e5-c0a2-4b8a-f00d-28f641e4e4cd"
      },
      "execution_count": 23,
      "outputs": [
        {
          "output_type": "stream",
          "name": "stdout",
          "text": [
            "Drive already mounted at /content/drive; to attempt to forcibly remount, call drive.mount(\"/content/drive\", force_remount=True).\n"
          ]
        }
      ]
    },
    {
      "cell_type": "code",
      "source": [
        "# Dataset Location\n",
        "\n",
        "DATA_DIR = '/content/drive/MyDrive/Colab Notebooks/chest_xray'"
      ],
      "metadata": {
        "id": "yDeAY45q3p95"
      },
      "execution_count": null,
      "outputs": []
    },
    {
      "cell_type": "code",
      "source": [
        "# Create TRAIN/VAL/TEST Generators\n",
        "\n",
        "from notebooks.preprocessing import create_generators\n",
        "train_gen, val_gen, test_gen = create_generators(DATA_DIR)\n",
        "print(\"✅ Data generators created successfully!\\n\")"
      ],
      "metadata": {
        "id": "lXVxzZno3s7k"
      },
      "execution_count": null,
      "outputs": []
    }
  ]
}